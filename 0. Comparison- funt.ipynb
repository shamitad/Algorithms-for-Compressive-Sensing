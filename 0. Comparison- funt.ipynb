{
 "cells": [
  {
   "cell_type": "markdown",
   "id": "562ac31b",
   "metadata": {},
   "source": [
    "#  Comparison of L1 minimization, IHT and NSIHT algorithms \n"
   ]
  },
  {
   "cell_type": "markdown",
   "id": "40984047",
   "metadata": {},
   "source": []
  },
  {
   "cell_type": "code",
   "execution_count": null,
   "id": "782be07e",
   "metadata": {},
   "outputs": [],
   "source": []
  },
  {
   "cell_type": "code",
   "execution_count": 18,
   "id": "f2202a57",
   "metadata": {},
   "outputs": [],
   "source": [
    "import numpy as np\n",
    "import math\n",
    "import random\n",
    "from random import seed\n",
    "from random import random\n",
    "from numpy import linalg as LA\n",
    "import scipy.linalg.interpolative\n",
    "import random\n",
    "import matplotlib.pyplot as plt\n",
    "import cvxpy as cp"
   ]
  },
  {
   "cell_type": "code",
   "execution_count": 19,
   "id": "736fe851",
   "metadata": {},
   "outputs": [],
   "source": [
    "def hard_thresh(x_mat,s):  # function for hard thresholding\n",
    "    n=len(x_mat)\n",
    "    val=[]\n",
    "    \n",
    "    x_mat_temp=np.array\n",
    "    x_mat_temp=np.absolute(x_mat)\n",
    "    ind=x_mat_temp.argsort(axis=0)\n",
    "    \n",
    "    val=ind[-s:]\n",
    "    \n",
    "    for i in range(n):\n",
    "        if i not in val:\n",
    "            x_mat[i]=0\n",
    "        \n",
    "             \n",
    "    return(x_mat)"
   ]
  },
  {
   "cell_type": "code",
   "execution_count": 20,
   "id": "739ca55a",
   "metadata": {},
   "outputs": [],
   "source": [
    "def l1_minimization(m,N,s,N_mc):\n",
    "    \n",
    "    probability=[]\n",
    "    m_val=[]\n",
    "    diff_l1=[]\n",
    "    diff_it=[]\n",
    "    val=[]\n",
    "    for m in range (20,m,20):\n",
    "        succ=0\n",
    "\n",
    "        m_val.append(m)\n",
    "        for i in range(N_mc):\n",
    "            A=np.random.randn(m,N) # measurement matrix\n",
    "            x =np.zeros((N,1))\n",
    "\n",
    "            import random\n",
    "            randomlist = random.sample(range(0, N-1), s)  # indeces for non zero values\n",
    "\n",
    "            from random import random\n",
    "\n",
    "            for i in randomlist:\n",
    "                x[i]=random()  \n",
    "\n",
    "            y=A.dot(x)  \n",
    "\n",
    "            za= cp.Variable((N,1))\n",
    "            z1a=cp.norm(za,1)\n",
    "\n",
    "            prob = cp.Problem(cp.Minimize(z1a),[A*za==y])  #min z1 st az=y\n",
    "            prob.solve(abstol=1e-15) \n",
    "\n",
    "            z_star=hard_thresh(za.value,s)\n",
    "\n",
    "            if (LA.norm((x-z_star),2)/LA.norm(x,2))<1e-3:\n",
    "                succ=succ+1\n",
    "\n",
    "            diff=z_star-x\n",
    "            val.append(LA.norm(diff))\n",
    "            diff_l1.append(LA.norm(diff))\n",
    "        \n",
    "        probability.append(succ/N_mc)\n",
    "    return m_val,probability,diff_l1     \n"
   ]
  },
  {
   "cell_type": "code",
   "execution_count": 21,
   "id": "462a9eb8",
   "metadata": {},
   "outputs": [],
   "source": [
    "def iht_algo (A,y,s,h,max_iter,tol,xn,x,N):\n",
    "    iteration=0\n",
    "    rel_incr=10       \n",
    "    xn1=np.zeros((N,1))  \n",
    "    \n",
    "    while iteration<max_iter and rel_incr>tol:\n",
    "        A_trans=A.transpose()\n",
    "        xn1=xn+(h*(A_trans.dot((y-(A.dot(xn))))))\n",
    "        xn1=hard_thresh(xn1,s)\n",
    "        rel_incr=LA.norm(xn1-xn)/LA.norm(xn1)\n",
    "        xn=xn1\n",
    "           \n",
    "    return xn"
   ]
  },
  {
   "cell_type": "code",
   "execution_count": 22,
   "id": "7aa6c134",
   "metadata": {},
   "outputs": [],
   "source": [
    "def IHT(N,m,s,N_mc):\n",
    "    prob=[]\n",
    "    m_val=[]\n",
    "    diff_iht=[]\n",
    "    for m in range (20,m,20):\n",
    "        succ=0\n",
    "        m_val.append(m)\n",
    "        for iter_mc in range(N_mc):\n",
    "            A=np.random.randn(m,N) # measurement matrix\n",
    "            x =np.zeros((N,1))\n",
    "            a=LA.norm(A,2)\n",
    "            A=A/(a)\n",
    "            import random\n",
    "            randomlist = random.sample(range(0, N-1), s) # indeces for non zero values\n",
    "            from random import random\n",
    "        \n",
    "            for i in randomlist:\n",
    "                x[i]=random()  \n",
    "\n",
    "            y=A.dot(x)  \n",
    "\n",
    "            xn=np.zeros((N,1))\n",
    "            xnplus1=iht_algo(A,y,s,1,100,1e-8,xn,x,N)\n",
    "            \n",
    "            diff=xnplus1-x\n",
    "            diff_iht.append(LA.norm(diff))\n",
    "        \n",
    "            if (LA.norm((x-xnplus1),2)/LA.norm(x,2))<1e-3:\n",
    "                succ=succ+1\n",
    "\n",
    "        prob.append(succ/N_mc)\n",
    "        \n",
    "    return prob,diff_iht"
   ]
  },
  {
   "cell_type": "code",
   "execution_count": 23,
   "id": "fc0fcf86",
   "metadata": {},
   "outputs": [],
   "source": [
    "def nsiht_algo (A,y,s,e,h,max_iter,xn,x,tol,N):\n",
    "    iteration=0\n",
    "    rel_incr=10\n",
    "    \n",
    "    I=np.identity(N)\n",
    "    xn1=np.zeros((N,1)) #xn+1\n",
    "    \n",
    "    while iteration<max_iter and rel_incr>tol:\n",
    "        \n",
    "        A_trans=A.transpose()\n",
    "        inv=(A_trans.dot(A))+(e*I)\n",
    "        inv=np.linalg.inv(inv) \n",
    "        \n",
    "        xn1=xn+(h*inv.dot((A_trans.dot(y-A.dot(xn)))))      \n",
    "        xn1=hard_thresh(xn1,s)\n",
    "       \n",
    "        iteration=iteration+1      \n",
    "        xn=xn1\n",
    "           \n",
    "    return xn "
   ]
  },
  {
   "cell_type": "code",
   "execution_count": 24,
   "id": "a41a3611",
   "metadata": {},
   "outputs": [],
   "source": [
    "def NSIHT (N,m,s,N_mc):\n",
    "    prob=[]\n",
    "    m_val=[]\n",
    "    diff_nsiht=[]\n",
    "    for m in range (20,m,20):\n",
    "        succ=0\n",
    "        m_val.append(m)\n",
    "        for iter_mc in range(N_mc):\n",
    "            A=np.random.randn(m,N) # measurement matrix\n",
    "            x =np.zeros((N,1))\n",
    "            a=LA.norm(A,2)\n",
    "            A=A/(a)\n",
    "            xminusxnorm=[]\n",
    "            import random\n",
    "            randomlist = random.sample(range(0, N-1), s) # indeces for non zero values\n",
    "            from random import random\n",
    "\n",
    "            for i in randomlist:\n",
    "                x[i]=random()  \n",
    "\n",
    "            y=A.dot(x)  \n",
    "            xn=np.zeros((N,1))\n",
    "            xn1=np.zeros((N,1)) #xn+1\n",
    "\n",
    "            x_star=nsiht_algo(A,y,s,1,1,700,xn,x,1e-6,N)\n",
    "\n",
    "            if (LA.norm((x-x_star),2)/LA.norm(x,2))<1e-3:\n",
    "                        succ=succ+1\n",
    "                    \n",
    "            diff=x_star-x\n",
    "            diff_nsiht.append(LA.norm(diff))\n",
    "        prob.append(succ/N_mc)\n",
    "        \n",
    "    return prob,diff_nsiht"
   ]
  },
  {
   "cell_type": "code",
   "execution_count": 25,
   "id": "b1c3ffef",
   "metadata": {},
   "outputs": [],
   "source": [
    "def recovery_plots(m_val,prob_l1,prob_iht,prob_nsiht):\n",
    "    plt.title('Probability of recovery',fontsize=20)\n",
    "\n",
    "    plt.plot(m_val,prob_l1)\n",
    "    plt.plot(m_val,prob_iht)\n",
    "    plt.plot(m_val,prob_nsiht)\n",
    "\n",
    "\n",
    "    plt.legend(['L1 min', 'IHT', 'NSIHT'])\n",
    "    plt.xlabel('m')\n",
    "    plt.ylabel('recovery probability ')\n",
    "\n",
    "    plt.show()"
   ]
  },
  {
   "cell_type": "code",
   "execution_count": 26,
   "id": "40832948",
   "metadata": {},
   "outputs": [],
   "source": [
    "def relative_error(diff_l1,diff_iht,diff_nsiht,N_mc,m):\n",
    "    l1_val = [diff_l1[i:i+N_mc] for i in range(0, len(diff_l1), N_mc)]\n",
    "    iht_val = [diff_iht[i:i+N_mc] for i in range(0, len(diff_iht), N_mc)]\n",
    "    nsiht_val = [diff_nsiht[i:i+N_mc] for i in range(0, len(diff_nsiht), N_mc)]\n",
    "    k=len(l1_val)\n",
    "    v=[]\n",
    "    for i in range(20,m,20):\n",
    "        v.append(i)\n",
    "    v\n",
    "    j=int(N_mc-1)/2\n",
    "    j=int(j)\n",
    "    print('\\033[1m' +\"ERROR IN RECOVERY AT DIFFERENT VALUES FOR m\" )\n",
    "    for i in range(k):\n",
    "        plt.title( v[i],fontsize=13)    \n",
    "        plt.plot(l1_val[i])\n",
    "        plt.plot(iht_val[i])\n",
    "        plt.plot(nsiht_val[i])\n",
    "        plt.yscale('log')\n",
    "        plt.legend(['L1 min', 'IHT', 'NSIHT'])\n",
    "        plt.ylabel('relative error')\n",
    "        plt.ylabel('iteratios')\n",
    "        plt.show()\n",
    "\n",
    "    "
   ]
  },
  {
   "cell_type": "code",
   "execution_count": 27,
   "id": "b559d4de",
   "metadata": {},
   "outputs": [],
   "source": [
    "m=100\n",
    "N=100\n",
    "s=2\n",
    "N_mc=5"
   ]
  },
  {
   "cell_type": "code",
   "execution_count": 28,
   "id": "01af80e9",
   "metadata": {},
   "outputs": [
    {
     "name": "stderr",
     "output_type": "stream",
     "text": [
      "C:\\Users\\Shamita\\sd_anaconda3\\lib\\site-packages\\cvxpy\\expressions\\expression.py:593: UserWarning: \n",
      "This use of ``*`` has resulted in matrix multiplication.\n",
      "Using ``*`` for matrix multiplication has been deprecated since CVXPY 1.1.\n",
      "    Use ``*`` for matrix-scalar and vector-scalar multiplication.\n",
      "    Use ``@`` for matrix-matrix and matrix-vector multiplication.\n",
      "    Use ``multiply`` for elementwise multiplication.\n",
      "This code path has been hit 21 times so far.\n",
      "\n",
      "  warnings.warn(msg, UserWarning)\n",
      "C:\\Users\\Shamita\\sd_anaconda3\\lib\\site-packages\\cvxpy\\expressions\\expression.py:593: UserWarning: \n",
      "This use of ``*`` has resulted in matrix multiplication.\n",
      "Using ``*`` for matrix multiplication has been deprecated since CVXPY 1.1.\n",
      "    Use ``*`` for matrix-scalar and vector-scalar multiplication.\n",
      "    Use ``@`` for matrix-matrix and matrix-vector multiplication.\n",
      "    Use ``multiply`` for elementwise multiplication.\n",
      "This code path has been hit 22 times so far.\n",
      "\n",
      "  warnings.warn(msg, UserWarning)\n",
      "C:\\Users\\Shamita\\sd_anaconda3\\lib\\site-packages\\cvxpy\\expressions\\expression.py:593: UserWarning: \n",
      "This use of ``*`` has resulted in matrix multiplication.\n",
      "Using ``*`` for matrix multiplication has been deprecated since CVXPY 1.1.\n",
      "    Use ``*`` for matrix-scalar and vector-scalar multiplication.\n",
      "    Use ``@`` for matrix-matrix and matrix-vector multiplication.\n",
      "    Use ``multiply`` for elementwise multiplication.\n",
      "This code path has been hit 23 times so far.\n",
      "\n",
      "  warnings.warn(msg, UserWarning)\n",
      "C:\\Users\\Shamita\\sd_anaconda3\\lib\\site-packages\\cvxpy\\expressions\\expression.py:593: UserWarning: \n",
      "This use of ``*`` has resulted in matrix multiplication.\n",
      "Using ``*`` for matrix multiplication has been deprecated since CVXPY 1.1.\n",
      "    Use ``*`` for matrix-scalar and vector-scalar multiplication.\n",
      "    Use ``@`` for matrix-matrix and matrix-vector multiplication.\n",
      "    Use ``multiply`` for elementwise multiplication.\n",
      "This code path has been hit 24 times so far.\n",
      "\n",
      "  warnings.warn(msg, UserWarning)\n",
      "C:\\Users\\Shamita\\sd_anaconda3\\lib\\site-packages\\cvxpy\\expressions\\expression.py:593: UserWarning: \n",
      "This use of ``*`` has resulted in matrix multiplication.\n",
      "Using ``*`` for matrix multiplication has been deprecated since CVXPY 1.1.\n",
      "    Use ``*`` for matrix-scalar and vector-scalar multiplication.\n",
      "    Use ``@`` for matrix-matrix and matrix-vector multiplication.\n",
      "    Use ``multiply`` for elementwise multiplication.\n",
      "This code path has been hit 25 times so far.\n",
      "\n",
      "  warnings.warn(msg, UserWarning)\n",
      "C:\\Users\\Shamita\\sd_anaconda3\\lib\\site-packages\\cvxpy\\expressions\\expression.py:593: UserWarning: \n",
      "This use of ``*`` has resulted in matrix multiplication.\n",
      "Using ``*`` for matrix multiplication has been deprecated since CVXPY 1.1.\n",
      "    Use ``*`` for matrix-scalar and vector-scalar multiplication.\n",
      "    Use ``@`` for matrix-matrix and matrix-vector multiplication.\n",
      "    Use ``multiply`` for elementwise multiplication.\n",
      "This code path has been hit 26 times so far.\n",
      "\n",
      "  warnings.warn(msg, UserWarning)\n",
      "C:\\Users\\Shamita\\sd_anaconda3\\lib\\site-packages\\cvxpy\\expressions\\expression.py:593: UserWarning: \n",
      "This use of ``*`` has resulted in matrix multiplication.\n",
      "Using ``*`` for matrix multiplication has been deprecated since CVXPY 1.1.\n",
      "    Use ``*`` for matrix-scalar and vector-scalar multiplication.\n",
      "    Use ``@`` for matrix-matrix and matrix-vector multiplication.\n",
      "    Use ``multiply`` for elementwise multiplication.\n",
      "This code path has been hit 27 times so far.\n",
      "\n",
      "  warnings.warn(msg, UserWarning)\n",
      "C:\\Users\\Shamita\\sd_anaconda3\\lib\\site-packages\\cvxpy\\expressions\\expression.py:593: UserWarning: \n",
      "This use of ``*`` has resulted in matrix multiplication.\n",
      "Using ``*`` for matrix multiplication has been deprecated since CVXPY 1.1.\n",
      "    Use ``*`` for matrix-scalar and vector-scalar multiplication.\n",
      "    Use ``@`` for matrix-matrix and matrix-vector multiplication.\n",
      "    Use ``multiply`` for elementwise multiplication.\n",
      "This code path has been hit 28 times so far.\n",
      "\n",
      "  warnings.warn(msg, UserWarning)\n",
      "C:\\Users\\Shamita\\sd_anaconda3\\lib\\site-packages\\cvxpy\\expressions\\expression.py:593: UserWarning: \n",
      "This use of ``*`` has resulted in matrix multiplication.\n",
      "Using ``*`` for matrix multiplication has been deprecated since CVXPY 1.1.\n",
      "    Use ``*`` for matrix-scalar and vector-scalar multiplication.\n",
      "    Use ``@`` for matrix-matrix and matrix-vector multiplication.\n",
      "    Use ``multiply`` for elementwise multiplication.\n",
      "This code path has been hit 29 times so far.\n",
      "\n",
      "  warnings.warn(msg, UserWarning)\n",
      "C:\\Users\\Shamita\\sd_anaconda3\\lib\\site-packages\\cvxpy\\expressions\\expression.py:593: UserWarning: \n",
      "This use of ``*`` has resulted in matrix multiplication.\n",
      "Using ``*`` for matrix multiplication has been deprecated since CVXPY 1.1.\n",
      "    Use ``*`` for matrix-scalar and vector-scalar multiplication.\n",
      "    Use ``@`` for matrix-matrix and matrix-vector multiplication.\n",
      "    Use ``multiply`` for elementwise multiplication.\n",
      "This code path has been hit 30 times so far.\n",
      "\n",
      "  warnings.warn(msg, UserWarning)\n",
      "C:\\Users\\Shamita\\sd_anaconda3\\lib\\site-packages\\cvxpy\\expressions\\expression.py:593: UserWarning: \n",
      "This use of ``*`` has resulted in matrix multiplication.\n",
      "Using ``*`` for matrix multiplication has been deprecated since CVXPY 1.1.\n",
      "    Use ``*`` for matrix-scalar and vector-scalar multiplication.\n",
      "    Use ``@`` for matrix-matrix and matrix-vector multiplication.\n",
      "    Use ``multiply`` for elementwise multiplication.\n",
      "This code path has been hit 31 times so far.\n",
      "\n",
      "  warnings.warn(msg, UserWarning)\n",
      "C:\\Users\\Shamita\\sd_anaconda3\\lib\\site-packages\\cvxpy\\expressions\\expression.py:593: UserWarning: \n",
      "This use of ``*`` has resulted in matrix multiplication.\n",
      "Using ``*`` for matrix multiplication has been deprecated since CVXPY 1.1.\n",
      "    Use ``*`` for matrix-scalar and vector-scalar multiplication.\n",
      "    Use ``@`` for matrix-matrix and matrix-vector multiplication.\n",
      "    Use ``multiply`` for elementwise multiplication.\n",
      "This code path has been hit 32 times so far.\n",
      "\n",
      "  warnings.warn(msg, UserWarning)\n",
      "C:\\Users\\Shamita\\sd_anaconda3\\lib\\site-packages\\cvxpy\\expressions\\expression.py:593: UserWarning: \n",
      "This use of ``*`` has resulted in matrix multiplication.\n",
      "Using ``*`` for matrix multiplication has been deprecated since CVXPY 1.1.\n",
      "    Use ``*`` for matrix-scalar and vector-scalar multiplication.\n",
      "    Use ``@`` for matrix-matrix and matrix-vector multiplication.\n",
      "    Use ``multiply`` for elementwise multiplication.\n",
      "This code path has been hit 33 times so far.\n",
      "\n",
      "  warnings.warn(msg, UserWarning)\n",
      "C:\\Users\\Shamita\\sd_anaconda3\\lib\\site-packages\\cvxpy\\expressions\\expression.py:593: UserWarning: \n",
      "This use of ``*`` has resulted in matrix multiplication.\n",
      "Using ``*`` for matrix multiplication has been deprecated since CVXPY 1.1.\n",
      "    Use ``*`` for matrix-scalar and vector-scalar multiplication.\n",
      "    Use ``@`` for matrix-matrix and matrix-vector multiplication.\n",
      "    Use ``multiply`` for elementwise multiplication.\n",
      "This code path has been hit 34 times so far.\n",
      "\n",
      "  warnings.warn(msg, UserWarning)\n",
      "C:\\Users\\Shamita\\sd_anaconda3\\lib\\site-packages\\cvxpy\\expressions\\expression.py:593: UserWarning: \n",
      "This use of ``*`` has resulted in matrix multiplication.\n",
      "Using ``*`` for matrix multiplication has been deprecated since CVXPY 1.1.\n",
      "    Use ``*`` for matrix-scalar and vector-scalar multiplication.\n",
      "    Use ``@`` for matrix-matrix and matrix-vector multiplication.\n",
      "    Use ``multiply`` for elementwise multiplication.\n",
      "This code path has been hit 35 times so far.\n",
      "\n",
      "  warnings.warn(msg, UserWarning)\n",
      "C:\\Users\\Shamita\\sd_anaconda3\\lib\\site-packages\\cvxpy\\expressions\\expression.py:593: UserWarning: \n",
      "This use of ``*`` has resulted in matrix multiplication.\n",
      "Using ``*`` for matrix multiplication has been deprecated since CVXPY 1.1.\n",
      "    Use ``*`` for matrix-scalar and vector-scalar multiplication.\n",
      "    Use ``@`` for matrix-matrix and matrix-vector multiplication.\n",
      "    Use ``multiply`` for elementwise multiplication.\n",
      "This code path has been hit 36 times so far.\n",
      "\n",
      "  warnings.warn(msg, UserWarning)\n",
      "C:\\Users\\Shamita\\sd_anaconda3\\lib\\site-packages\\cvxpy\\expressions\\expression.py:593: UserWarning: \n",
      "This use of ``*`` has resulted in matrix multiplication.\n",
      "Using ``*`` for matrix multiplication has been deprecated since CVXPY 1.1.\n",
      "    Use ``*`` for matrix-scalar and vector-scalar multiplication.\n",
      "    Use ``@`` for matrix-matrix and matrix-vector multiplication.\n",
      "    Use ``multiply`` for elementwise multiplication.\n",
      "This code path has been hit 37 times so far.\n",
      "\n",
      "  warnings.warn(msg, UserWarning)\n",
      "C:\\Users\\Shamita\\sd_anaconda3\\lib\\site-packages\\cvxpy\\expressions\\expression.py:593: UserWarning: \n",
      "This use of ``*`` has resulted in matrix multiplication.\n",
      "Using ``*`` for matrix multiplication has been deprecated since CVXPY 1.1.\n",
      "    Use ``*`` for matrix-scalar and vector-scalar multiplication.\n",
      "    Use ``@`` for matrix-matrix and matrix-vector multiplication.\n",
      "    Use ``multiply`` for elementwise multiplication.\n",
      "This code path has been hit 38 times so far.\n",
      "\n",
      "  warnings.warn(msg, UserWarning)\n",
      "C:\\Users\\Shamita\\sd_anaconda3\\lib\\site-packages\\cvxpy\\expressions\\expression.py:593: UserWarning: \n",
      "This use of ``*`` has resulted in matrix multiplication.\n",
      "Using ``*`` for matrix multiplication has been deprecated since CVXPY 1.1.\n",
      "    Use ``*`` for matrix-scalar and vector-scalar multiplication.\n",
      "    Use ``@`` for matrix-matrix and matrix-vector multiplication.\n",
      "    Use ``multiply`` for elementwise multiplication.\n",
      "This code path has been hit 39 times so far.\n",
      "\n",
      "  warnings.warn(msg, UserWarning)\n",
      "C:\\Users\\Shamita\\sd_anaconda3\\lib\\site-packages\\cvxpy\\expressions\\expression.py:593: UserWarning: \n",
      "This use of ``*`` has resulted in matrix multiplication.\n",
      "Using ``*`` for matrix multiplication has been deprecated since CVXPY 1.1.\n",
      "    Use ``*`` for matrix-scalar and vector-scalar multiplication.\n",
      "    Use ``@`` for matrix-matrix and matrix-vector multiplication.\n",
      "    Use ``multiply`` for elementwise multiplication.\n",
      "This code path has been hit 40 times so far.\n",
      "\n",
      "  warnings.warn(msg, UserWarning)\n"
     ]
    }
   ],
   "source": [
    "m_val,prob_l1,diff_l1=l1_minimization(m,N,s,N_mc)"
   ]
  },
  {
   "cell_type": "code",
   "execution_count": 29,
   "id": "3b9e95f7",
   "metadata": {},
   "outputs": [],
   "source": [
    "prob_iht,diff_iht=IHT(m,N,s,N_mc)"
   ]
  },
  {
   "cell_type": "code",
   "execution_count": 30,
   "id": "4c1825b9",
   "metadata": {},
   "outputs": [],
   "source": [
    "prob_nsiht,diff_nsiht=NSIHT(m,N,s,N_mc)"
   ]
  },
  {
   "cell_type": "code",
   "execution_count": 31,
   "id": "979b4117",
   "metadata": {},
   "outputs": [
    {
     "data": {
      "image/png": "[encoded data removed]",
      "text/plain": [
       "<Figure size 432x288 with 1 Axes>"
      ]
     },
     "metadata": {
      "needs_background": "light"
     },
     "output_type": "display_data"
    }
   ],
   "source": [
    "recovery_plots(m_val,prob_l1,prob_iht,prob_nsiht)"
   ]
  },
  {
   "cell_type": "code",
   "execution_count": 32,
   "id": "6f37a97e",
   "metadata": {},
   "outputs": [
    {
     "name": "stdout",
     "output_type": "stream",
     "text": [
      "\u001b[1mERROR IN RECOVERY AT DIFFERENT VALUES FOR m\n"
     ]
    },
    {
     "data": {
      "image/png": "[encoded data removed]",
      "text/plain": [
       "<Figure size 432x288 with 1 Axes>"
      ]
     },
     "metadata": {
      "needs_background": "light"
     },
     "output_type": "display_data"
    },
    {
     "data": {
      "image/png": "[encoded data removed]",
      "text/plain": [
       "<Figure size 432x288 with 1 Axes>"
      ]
     },
     "metadata": {
      "needs_background": "light"
     },
     "output_type": "display_data"
    },
    {
     "data": {
      "image/png": "[encoded data removed]",
      "text/plain": [
       "<Figure size 432x288 with 1 Axes>"
      ]
     },
     "metadata": {
      "needs_background": "light"
     },
     "output_type": "display_data"
    },
    {
     "data": {
      "image/png": "[encoded data removed]",
      "text/plain": [
       "<Figure size 432x288 with 1 Axes>"
      ]
     },
     "metadata": {
      "needs_background": "light"
     },
     "output_type": "display_data"
    }
   ],
   "source": [
    "relative_error(diff_l1,diff_iht,diff_nsiht,N_mc,m)"
   ]
  },
  {
   "cell_type": "code",
   "execution_count": null,
   "id": "67f08702",
   "metadata": {},
   "outputs": [],
   "source": []
  },
  {
   "cell_type": "code",
   "execution_count": null,
   "id": "991a0b00",
   "metadata": {},
   "outputs": [],
   "source": []
  },
  {
   "cell_type": "code",
   "execution_count": null,
   "id": "21927bb9",
   "metadata": {},
   "outputs": [],
   "source": []
  },
  {
   "cell_type": "code",
   "execution_count": null,
   "id": "50ca3d62",
   "metadata": {},
   "outputs": [],
   "source": []
  },
  {
   "cell_type": "code",
   "execution_count": null,
   "id": "b235bc7f",
   "metadata": {},
   "outputs": [],
   "source": []
  },
  {
   "cell_type": "code",
   "execution_count": null,
   "id": "60750bec",
   "metadata": {},
   "outputs": [],
   "source": []
  }
 ],
 "metadata": {
  "kernelspec": {
   "display_name": "Python 3 (ipykernel)",
   "language": "python",
   "name": "python3"
  },
  "language_info": {
   "codemirror_mode": {
    "name": "ipython",
    "version": 3
   },
   "file_extension": ".py",
   "mimetype": "text/x-python",
   "name": "python",
   "nbconvert_exporter": "python",
   "pygments_lexer": "ipython3",
   "version": "3.9.12"
  }
 },
 "nbformat": 4,
 "nbformat_minor": 5
}
